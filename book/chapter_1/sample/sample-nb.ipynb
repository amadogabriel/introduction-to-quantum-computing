{
 "cells": [
  {
   "cell_type": "markdown",
   "metadata": {},
   "source": [
    "# Sample Commonmarkdown and MyST directives in Jupyter Notebook\n",
    "\n",
    "This is a sample image using default image embedding method. Note that you can set the dimensions of the image using this method.\n",
    "\n",
    "![Sample image](./images/logo.png)\n",
    "\n",
    "Now this is a sample image using MyST directive {image}. You can specify the dimensions of the image using this method.\n",
    "\n",
    "```{image} ./images/logo.png\n",
    ":alt: Sample image\n",
    ":width: 200px\n",
    ":align: center\n",
    "```\n",
    "\n",
    "```{note}\n",
    "This is a sample note in Jupyter notebook.\n",
    "```\n",
    "\n",
    "Here is an example of an inline TeX script using single dollar: $\\vert\\lambda\\rangle = \\sum_{i=0}^{N-1} \\alpha_{i}\\vert i \\rangle$.\n",
    "\n",
    "Here is an example of a block of the same TeX script using double dollar:\n",
    "\n",
    "$$\n",
    "    \\vert\\lambda\\rangle = \\sum_{i=0}^{N-1} \\alpha_{i}\\vert i \\rangle\n",
    "$$\n",
    "\n",
    "Here is an example of a block of the same TeX script using \\begin{align}\\end{align} in amsmath:\n",
    "\n",
    "\\begin{align}\n",
    "    \\vert\\lambda\\rangle = \\sum_{i=0}^{N-1} \\alpha_{i}\\vert i \\rangle\n",
    "\\end{align}\n",
    "\n",
    "And here is the same equation using MyST math directive {math}.\n",
    "\n",
    "```{math}\n",
    "    \\vert\\lambda\\rangle = \\sum_{i=0}^{N-1} \\alpha_{i}\\vert i \\rangle\n",
    "```"
   ]
  }
 ],
 "metadata": {
  "language_info": {
   "name": "python"
  },
  "orig_nbformat": 4
 },
 "nbformat": 4,
 "nbformat_minor": 2
}
